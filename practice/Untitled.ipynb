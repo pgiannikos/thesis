{
 "cells": [
  {
   "cell_type": "markdown",
   "id": "83fe86ce-f0cc-4158-b94d-b05f897e9abf",
   "metadata": {},
   "source": [
    "Comprehension Syntax"
   ]
  },
  {
   "cell_type": "markdown",
   "id": "d912d844-3d7e-4db1-9840-64aaa6472c2e",
   "metadata": {},
   "source": [
    "task: **create** a series of values **based upon** the processing of **another** series"
   ]
  },
  {
   "cell_type": "markdown",
   "id": "dddb4cf6-53fc-4775-ae92-e58e3e755818",
   "metadata": {},
   "source": [
    "list comprehension syntax <br>\n",
    "[ expression **for** value **in** iterable **if** condition ]"
   ]
  },
  {
   "cell_type": "markdown",
   "id": "f9bb83c5-cc7a-41a2-aef5-a437d1d1eea4",
   "metadata": {},
   "source": [
    "**traditional equivalent**\n",
    "```python\n",
    "result = [ ]\n",
    "for value in iterable:\n",
    "if condition:\n",
    "result.append(expression)\n",
    "```"
   ]
  },
  {
   "cell_type": "code",
   "execution_count": 14,
   "id": "6fd4d302-49cd-45ec-b942-65fa2170bab2",
   "metadata": {},
   "outputs": [
    {
     "data": {
      "text/plain": [
       "[1, 2]"
      ]
     },
     "metadata": {},
     "output_type": "display_data"
    }
   ],
   "source": [
    "list1=[]\n",
    "for k in range(1, 3):\n",
    "    list1.append(k)\n",
    "display(list1)"
   ]
  },
  {
   "cell_type": "code",
   "execution_count": 18,
   "id": "8b0d00e0-a120-4671-a9bc-9e5e317d428c",
   "metadata": {},
   "outputs": [
    {
     "data": {
      "text/plain": [
       "[1, 2]"
      ]
     },
     "metadata": {},
     "output_type": "display_data"
    }
   ],
   "source": [
    "list2 = [k for k in range(1, 3)]\n",
    "display(list2)\n"
   ]
  },
  {
   "cell_type": "code",
   "execution_count": null,
   "id": "650d6a46-ea03-48b1-8167-6e489faedc24",
   "metadata": {},
   "outputs": [],
   "source": []
  }
 ],
 "metadata": {
  "kernelspec": {
   "display_name": "Python 3 (ipykernel)",
   "language": "python",
   "name": "python3"
  },
  "language_info": {
   "codemirror_mode": {
    "name": "ipython",
    "version": 3
   },
   "file_extension": ".py",
   "mimetype": "text/x-python",
   "name": "python",
   "nbconvert_exporter": "python",
   "pygments_lexer": "ipython3",
   "version": "3.12.2"
  }
 },
 "nbformat": 4,
 "nbformat_minor": 5
}
